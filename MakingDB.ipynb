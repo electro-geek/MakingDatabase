{
 "cells": [
  {
   "cell_type": "code",
   "execution_count": 1,
   "id": "0ef51125",
   "metadata": {},
   "outputs": [],
   "source": [
    "import pandas as pd"
   ]
  },
  {
   "cell_type": "code",
   "execution_count": 2,
   "id": "2f0846ac",
   "metadata": {},
   "outputs": [
    {
     "name": "stdout",
     "output_type": "stream",
     "text": [
      "Collecting mysql-connector-pythonNote: you may need to restart the kernel to use updated packages.\n"
     ]
    },
    {
     "name": "stderr",
     "output_type": "stream",
     "text": [
      "\n",
      "[notice] A new release of pip available: 22.2.2 -> 22.3.1\n",
      "[notice] To update, run: C:\\Users\\Mritunjay Sharma\\AppData\\Local\\Microsoft\\WindowsApps\\PythonSoftwareFoundation.Python.3.9_qbz5n2kfra8p0\\python.exe -m pip install --upgrade pip\n"
     ]
    },
    {
     "name": "stdout",
     "output_type": "stream",
     "text": [
      "\n",
      "  Downloading mysql_connector_python-8.0.31-cp39-cp39-win_amd64.whl (7.9 MB)\n",
      "     ---------------------------------------- 7.9/7.9 MB 260.0 kB/s eta 0:00:00\n",
      "Requirement already satisfied: protobuf<=3.20.1,>=3.11.0 in c:\\users\\mritunjay sharma\\appdata\\local\\packages\\pythonsoftwarefoundation.python.3.9_qbz5n2kfra8p0\\localcache\\local-packages\\python39\\site-packages (from mysql-connector-python) (3.19.1)\n",
      "Installing collected packages: mysql-connector-python\n",
      "Successfully installed mysql-connector-python-8.0.31\n"
     ]
    }
   ],
   "source": [
    "pip install mysql-connector-python"
   ]
  },
  {
   "cell_type": "code",
   "execution_count": 3,
   "id": "770097b0",
   "metadata": {},
   "outputs": [
    {
     "name": "stdout",
     "output_type": "stream",
     "text": [
      "('branch',)\n",
      "('branch_supplier',)\n",
      "('client',)\n",
      "('employee',)\n",
      "('student',)\n",
      "('trigger_test',)\n",
      "('works_with',)\n"
     ]
    }
   ],
   "source": [
    "import mysql.connector\n",
    "\n",
    "mydb = mysql.connector.connect(\n",
    "    host=\"localhost\",\n",
    "    user=\"root\",\n",
    "    password=\"MritunjaySharma\",\n",
    "    database=\"Giraffe\"\n",
    ")\n",
    "\n",
    "mycursor = mydb.cursor()\n",
    "\n",
    "mycursor.execute(\"SHOW TABLES\")\n",
    "\n",
    "for x in mycursor:\n",
    "    print(x)"
   ]
  },
  {
   "cell_type": "code",
   "execution_count": 88,
   "id": "f5aa4320",
   "metadata": {},
   "outputs": [],
   "source": [
    "import os\n",
    "currDir = os.getcwd()\n",
    "path = currDir + \"/\" + \"individual_stocks_5yr\"\n",
    "list1 = os.listdir(path)\n",
    "list2 = list()\n",
    "for i in list1:\n",
    "    temp_data1 = pd.read_csv(path+\"/\"+i)\n",
    "    temp_list = temp_data1.columns\n",
    "    for j in temp_list:\n",
    "        list2.append(j)\n",
    "    break"
   ]
  },
  {
   "cell_type": "code",
   "execution_count": 89,
   "id": "920c82d4",
   "metadata": {},
   "outputs": [
    {
     "name": "stdout",
     "output_type": "stream",
     "text": [
      "['AAL_data.csv', 'AAPL_data.csv', 'AAP_data.csv', 'ABBV_data.csv', 'ABC_data.csv', 'ABT_data.csv', 'ACN_data.csv', 'ADBE_data.csv', 'ADI_data.csv', 'ADM_data.csv', 'ADP_data.csv', 'ADSK_data.csv', 'ADS_data.csv', 'AEE_data.csv', 'AEP_data.csv', 'AES_data.csv', 'AET_data.csv', 'AFL_data.csv', 'AGN_data.csv', 'AIG_data.csv', 'AIV_data.csv', 'AIZ_data.csv', 'AJG_data.csv', 'AKAM_data.csv', 'ALB_data.csv', 'ALGN_data.csv', 'ALK_data.csv', 'ALLE_data.csv', 'ALL_data.csv', 'ALXN_data.csv', 'AMAT_data.csv', 'AMD_data.csv', 'AME_data.csv', 'AMGN_data.csv', 'AMG_data.csv', 'AMP_data.csv', 'AMT_data.csv', 'AMZN_data.csv', 'ANDV_data.csv', 'ANSS_data.csv', 'ANTM_data.csv', 'AON_data.csv', 'AOS_data.csv', 'APA_data.csv', 'APC_data.csv', 'APD_data.csv', 'APH_data.csv', 'APTV_data.csv', 'ARE_data.csv', 'ARNC_data.csv', 'ATVI_data.csv', 'AVB_data.csv', 'AVGO_data.csv', 'AVY_data.csv', 'AWK_data.csv', 'AXP_data.csv', 'AYI_data.csv', 'AZO_data.csv', 'A_data.csv', 'BAC_data.csv', 'BAX_data.csv', 'BA_data.csv', 'BBT_data.csv', 'BBY_data.csv', 'BDX_data.csv', 'BEN_data.csv', 'BF.B_data.csv', 'BHF_data.csv', 'BHGE_data.csv', 'BIIB_data.csv', 'BK_data.csv', 'BLK_data.csv', 'BLL_data.csv', 'BMY_data.csv', 'BRK.B_data.csv', 'BSX_data.csv', 'BWA_data.csv', 'BXP_data.csv', 'CAG_data.csv', 'CAH_data.csv', 'CAT_data.csv', 'CA_data.csv', 'CBG_data.csv', 'CBOE_data.csv', 'CBS_data.csv', 'CB_data.csv', 'CCI_data.csv', 'CCL_data.csv', 'CDNS_data.csv', 'CELG_data.csv', 'CERN_data.csv', 'CFG_data.csv', 'CF_data.csv', 'CHD_data.csv', 'CHK_data.csv', 'CHRW_data.csv', 'CHTR_data.csv', 'CINF_data.csv', 'CI_data.csv', 'CLX_data.csv', 'CL_data.csv', 'CMA_data.csv', 'CMCSA_data.csv', 'CME_data.csv', 'CMG_data.csv', 'CMI_data.csv', 'CMS_data.csv', 'CNC_data.csv', 'CNP_data.csv', 'COF_data.csv', 'COG_data.csv', 'COL_data.csv', 'COO_data.csv', 'COP_data.csv', 'COST_data.csv', 'COTY_data.csv', 'CPB_data.csv', 'CRM_data.csv', 'CSCO_data.csv', 'CSRA_data.csv', 'CSX_data.csv', 'CTAS_data.csv', 'CTL_data.csv', 'CTSH_data.csv', 'CTXS_data.csv', 'CVS_data.csv', 'CVX_data.csv', 'CXO_data.csv', 'C_data.csv', 'DAL_data.csv', 'DE_data.csv', 'DFS_data.csv', 'DGX_data.csv', 'DG_data.csv', 'DHI_data.csv', 'DHR_data.csv', 'DISCA_data.csv', 'DISCK_data.csv', 'DISH_data.csv', 'DIS_data.csv', 'DLR_data.csv', 'DLTR_data.csv', 'DOV_data.csv', 'DPS_data.csv', 'DRE_data.csv', 'DRI_data.csv', 'DTE_data.csv', 'DUK_data.csv', 'DVA_data.csv', 'DVN_data.csv', 'DWDP_data.csv', 'DXC_data.csv', 'D_data.csv', 'EA_data.csv', 'EBAY_data.csv', 'ECL_data.csv', 'ED_data.csv', 'EFX_data.csv', 'EIX_data.csv', 'EL_data.csv', 'EMN_data.csv', 'EMR_data.csv', 'EOG_data.csv', 'EQIX_data.csv', 'EQR_data.csv', 'EQT_data.csv', 'ESRX_data.csv', 'ESS_data.csv', 'ES_data.csv', 'ETFC_data.csv', 'ETN_data.csv', 'ETR_data.csv', 'EVHC_data.csv', 'EW_data.csv', 'EXC_data.csv', 'EXPD_data.csv', 'EXPE_data.csv', 'EXR_data.csv', 'FAST_data.csv', 'FBHS_data.csv', 'FB_data.csv', 'FCX_data.csv', 'FDX_data.csv', 'FE_data.csv', 'FFIV_data.csv', 'FISV_data.csv', 'FIS_data.csv', 'FITB_data.csv', 'FLIR_data.csv', 'FLR_data.csv', 'FLS_data.csv', 'FL_data.csv', 'FMC_data.csv', 'FOXA_data.csv', 'FOX_data.csv', 'FRT_data.csv', 'FTI_data.csv', 'FTV_data.csv', 'F_data.csv', 'GD_data.csv', 'GE_data.csv', 'GGP_data.csv', 'GILD_data.csv', 'GIS_data.csv', 'GLW_data.csv', 'GM_data.csv', 'GOOGL_data.csv', 'GOOG_data.csv', 'GPC_data.csv', 'GPN_data.csv', 'GPS_data.csv', 'GRMN_data.csv', 'GS_data.csv', 'GT_data.csv', 'GWW_data.csv', 'HAL_data.csv', 'HAS_data.csv', 'HBAN_data.csv', 'HBI_data.csv', 'HCA_data.csv', 'HCN_data.csv', 'HCP_data.csv', 'HD_data.csv', 'HES_data.csv', 'HIG_data.csv', 'HII_data.csv', 'HLT_data.csv', 'HOG_data.csv', 'HOLX_data.csv', 'HON_data.csv', 'HPE_data.csv', 'HPQ_data.csv', 'HP_data.csv', 'HRB_data.csv', 'HRL_data.csv', 'HRS_data.csv', 'HSIC_data.csv', 'HST_data.csv', 'HSY_data.csv', 'HUM_data.csv', 'IBM_data.csv', 'ICE_data.csv', 'IDXX_data.csv', 'IFF_data.csv', 'ILMN_data.csv', 'INCY_data.csv', 'INFO_data.csv', 'INTC_data.csv', 'INTU_data.csv', 'IPG_data.csv', 'IP_data.csv', 'IQV_data.csv', 'IRM_data.csv', 'IR_data.csv', 'ISRG_data.csv', 'ITW_data.csv', 'IT_data.csv', 'IVZ_data.csv', 'JBHT_data.csv', 'JCI_data.csv', 'JEC_data.csv', 'JNJ_data.csv', 'JNPR_data.csv', 'JPM_data.csv', 'JWN_data.csv', 'KEY_data.csv', 'KHC_data.csv', 'KIM_data.csv', 'KLAC_data.csv', 'KMB_data.csv', 'KMI_data.csv', 'KMX_data.csv', 'KORS_data.csv', 'KO_data.csv', 'KR_data.csv', 'KSS_data.csv', 'KSU_data.csv', 'K_data.csv', 'LB_data.csv', 'LEG_data.csv', 'LEN_data.csv', 'LH_data.csv', 'LKQ_data.csv', 'LLL_data.csv', 'LLY_data.csv', 'LMT_data.csv', 'LNC_data.csv', 'LNT_data.csv', 'LOW_data.csv', 'LRCX_data.csv', 'LUK_data.csv', 'LUV_data.csv', 'LYB_data.csv', 'L_data.csv', 'MAA_data.csv', 'MAC_data.csv', 'MAR_data.csv', 'MAS_data.csv', 'MAT_data.csv', 'MA_data.csv', 'MCD_data.csv', 'MCHP_data.csv', 'MCK_data.csv', 'MCO_data.csv', 'MDLZ_data.csv', 'MDT_data.csv', 'MET_data.csv', 'MGM_data.csv', 'MHK_data.csv', 'MKC_data.csv', 'MLM_data.csv', 'MMC_data.csv', 'MMM_data.csv', 'MNST_data.csv', 'MON_data.csv', 'MOS_data.csv', 'MO_data.csv', 'MPC_data.csv', 'MRK_data.csv', 'MRO_data.csv', 'MSFT_data.csv', 'MSI_data.csv', 'MS_data.csv', 'MTB_data.csv', 'MTD_data.csv', 'MU_data.csv', 'MYL_data.csv', 'M_data.csv', 'NAVI_data.csv', 'NBL_data.csv', 'NCLH_data.csv', 'NDAQ_data.csv', 'NEE_data.csv', 'NEM_data.csv', 'NFLX_data.csv', 'NFX_data.csv', 'NI_data.csv', 'NKE_data.csv', 'NLSN_data.csv', 'NOC_data.csv', 'NOV_data.csv', 'NRG_data.csv', 'NSC_data.csv', 'NTAP_data.csv', 'NTRS_data.csv', 'NUE_data.csv', 'NVDA_data.csv', 'NWL_data.csv', 'NWSA_data.csv', 'NWS_data.csv', 'OKE_data.csv', 'OMC_data.csv', 'ORCL_data.csv', 'ORLY_data.csv', 'OXY_data.csv', 'O_data.csv', 'PAYX_data.csv', 'PBCT_data.csv', 'PCAR_data.csv', 'PCG_data.csv', 'PCLN_data.csv', 'PDCO_data.csv', 'PEG_data.csv', 'PEP_data.csv', 'PFE_data.csv', 'PFG_data.csv', 'PGR_data.csv', 'PG_data.csv', 'PHM_data.csv', 'PH_data.csv', 'PKG_data.csv', 'PKI_data.csv', 'PLD_data.csv', 'PM_data.csv', 'PNC_data.csv', 'PNR_data.csv', 'PNW_data.csv', 'PPG_data.csv', 'PPL_data.csv', 'PRGO_data.csv', 'PRU_data.csv', 'PSA_data.csv', 'PSX_data.csv', 'PVH_data.csv', 'PWR_data.csv', 'PXD_data.csv', 'PX_data.csv', 'PYPL_data.csv', 'QCOM_data.csv', 'QRVO_data.csv', 'RCL_data.csv', 'REGN_data.csv', 'REG_data.csv', 'RE_data.csv', 'RF_data.csv', 'RHI_data.csv', 'RHT_data.csv', 'RJF_data.csv', 'RL_data.csv', 'RMD_data.csv', 'ROK_data.csv', 'ROP_data.csv', 'ROST_data.csv', 'RRC_data.csv', 'RSG_data.csv', 'RTN_data.csv', 'SBAC_data.csv', 'SBUX_data.csv', 'SCG_data.csv', 'SCHW_data.csv', 'SEE_data.csv', 'SHW_data.csv', 'SIG_data.csv', 'SJM_data.csv', 'SLB_data.csv', 'SLG_data.csv', 'SNA_data.csv', 'SNI_data.csv', 'SNPS_data.csv', 'SO_data.csv', 'SPGI_data.csv', 'SPG_data.csv', 'SRCL_data.csv', 'SRE_data.csv', 'STI_data.csv', 'STT_data.csv', 'STX_data.csv', 'STZ_data.csv', 'SWKS_data.csv', 'SWK_data.csv', 'SYF_data.csv', 'SYK_data.csv', 'SYMC_data.csv', 'SYY_data.csv', 'TAP_data.csv', 'TDG_data.csv', 'TEL_data.csv', 'TGT_data.csv', 'TIF_data.csv', 'TJX_data.csv', 'TMK_data.csv', 'TMO_data.csv', 'TPR_data.csv', 'TRIP_data.csv', 'TROW_data.csv', 'TRV_data.csv', 'TSCO_data.csv', 'TSN_data.csv', 'TSS_data.csv', 'TWX_data.csv', 'TXN_data.csv', 'TXT_data.csv', 'T_data.csv', 'UAA_data.csv', 'UAL_data.csv', 'UA_data.csv', 'UDR_data.csv', 'UHS_data.csv', 'ULTA_data.csv', 'UNH_data.csv', 'UNM_data.csv', 'UNP_data.csv', 'UPS_data.csv', 'URI_data.csv', 'USB_data.csv', 'UTX_data.csv', 'VAR_data.csv', 'VFC_data.csv', 'VIAB_data.csv', 'VLO_data.csv', 'VMC_data.csv', 'VNO_data.csv', 'VRSK_data.csv', 'VRSN_data.csv', 'VRTX_data.csv', 'VTR_data.csv', 'VZ_data.csv', 'V_data.csv', 'WAT_data.csv', 'WBA_data.csv', 'WDC_data.csv', 'WEC_data.csv', 'WFC_data.csv', 'WHR_data.csv', 'WLTW_data.csv', 'WMB_data.csv', 'WMT_data.csv', 'WM_data.csv', 'WRK_data.csv', 'WU_data.csv', 'WYNN_data.csv', 'WYN_data.csv', 'WY_data.csv', 'XEC_data.csv', 'XEL_data.csv', 'XLNX_data.csv', 'XL_data.csv', 'XOM_data.csv', 'XRAY_data.csv', 'XRX_data.csv', 'XYL_data.csv', 'YUM_data.csv', 'ZBH_data.csv', 'ZION_data.csv', 'ZTS_data.csv']\n"
     ]
    }
   ],
   "source": [
    "print(list1)"
   ]
  },
  {
   "cell_type": "code",
   "execution_count": 96,
   "id": "460fb4f3",
   "metadata": {},
   "outputs": [],
   "source": [
    "mycursor.execute('DROP TABLE StockDataA')"
   ]
  },
  {
   "cell_type": "code",
   "execution_count": 97,
   "id": "3498adee",
   "metadata": {},
   "outputs": [
    {
     "ename": "ProgrammingError",
     "evalue": "1050 (42S01): Table 'stockdataa' already exists",
     "output_type": "error",
     "traceback": [
      "\u001b[1;31m---------------------------------------------------------------------------\u001b[0m",
      "\u001b[1;31mProgrammingError\u001b[0m                          Traceback (most recent call last)",
      "\u001b[1;32mC:\\Users\\MRITUN~1\\AppData\\Local\\Temp/ipykernel_11484/1882697658.py\u001b[0m in \u001b[0;36m<module>\u001b[1;34m\u001b[0m\n\u001b[1;32m----> 1\u001b[1;33m \u001b[0mmycursor\u001b[0m\u001b[1;33m.\u001b[0m\u001b[0mexecute\u001b[0m\u001b[1;33m(\u001b[0m\u001b[1;34m'CREATE TABLE StockDataA(date_ date, open INT, high INT, low INT, close INT, volume INT, name VARCHAR(100))'\u001b[0m\u001b[1;33m)\u001b[0m\u001b[1;33m\u001b[0m\u001b[1;33m\u001b[0m\u001b[0m\n\u001b[0m",
      "\u001b[1;32m~\\AppData\\Local\\Packages\\PythonSoftwareFoundation.Python.3.9_qbz5n2kfra8p0\\LocalCache\\local-packages\\Python39\\site-packages\\mysql\\connector\\cursor.py\u001b[0m in \u001b[0;36mexecute\u001b[1;34m(self, operation, params, multi)\u001b[0m\n\u001b[0;32m    562\u001b[0m \u001b[1;33m\u001b[0m\u001b[0m\n\u001b[0;32m    563\u001b[0m         \u001b[1;32mtry\u001b[0m\u001b[1;33m:\u001b[0m\u001b[1;33m\u001b[0m\u001b[1;33m\u001b[0m\u001b[0m\n\u001b[1;32m--> 564\u001b[1;33m             \u001b[0mself\u001b[0m\u001b[1;33m.\u001b[0m\u001b[0m_handle_result\u001b[0m\u001b[1;33m(\u001b[0m\u001b[0mself\u001b[0m\u001b[1;33m.\u001b[0m\u001b[0m_connection\u001b[0m\u001b[1;33m.\u001b[0m\u001b[0mcmd_query\u001b[0m\u001b[1;33m(\u001b[0m\u001b[0mstmt\u001b[0m\u001b[1;33m)\u001b[0m\u001b[1;33m)\u001b[0m\u001b[1;33m\u001b[0m\u001b[1;33m\u001b[0m\u001b[0m\n\u001b[0m\u001b[0;32m    565\u001b[0m         \u001b[1;32mexcept\u001b[0m \u001b[0mInterfaceError\u001b[0m \u001b[1;32mas\u001b[0m \u001b[0merr\u001b[0m\u001b[1;33m:\u001b[0m\u001b[1;33m\u001b[0m\u001b[1;33m\u001b[0m\u001b[0m\n\u001b[0;32m    566\u001b[0m             \u001b[1;32mif\u001b[0m \u001b[0mself\u001b[0m\u001b[1;33m.\u001b[0m\u001b[0m_connection\u001b[0m\u001b[1;33m.\u001b[0m\u001b[0mhave_next_result\u001b[0m\u001b[1;33m:\u001b[0m\u001b[1;33m\u001b[0m\u001b[1;33m\u001b[0m\u001b[0m\n",
      "\u001b[1;32m~\\AppData\\Local\\Packages\\PythonSoftwareFoundation.Python.3.9_qbz5n2kfra8p0\\LocalCache\\local-packages\\Python39\\site-packages\\mysql\\connector\\connection.py\u001b[0m in \u001b[0;36mcmd_query\u001b[1;34m(self, query, raw, buffered, raw_as_string)\u001b[0m\n\u001b[0;32m    988\u001b[0m         \u001b[0mquery\u001b[0m \u001b[1;33m=\u001b[0m \u001b[0mbytes\u001b[0m\u001b[1;33m(\u001b[0m\u001b[0mpacket\u001b[0m\u001b[1;33m)\u001b[0m\u001b[1;33m\u001b[0m\u001b[1;33m\u001b[0m\u001b[0m\n\u001b[0;32m    989\u001b[0m         \u001b[1;32mtry\u001b[0m\u001b[1;33m:\u001b[0m\u001b[1;33m\u001b[0m\u001b[1;33m\u001b[0m\u001b[0m\n\u001b[1;32m--> 990\u001b[1;33m             \u001b[0mresult\u001b[0m \u001b[1;33m=\u001b[0m \u001b[0mself\u001b[0m\u001b[1;33m.\u001b[0m\u001b[0m_handle_result\u001b[0m\u001b[1;33m(\u001b[0m\u001b[0mself\u001b[0m\u001b[1;33m.\u001b[0m\u001b[0m_send_cmd\u001b[0m\u001b[1;33m(\u001b[0m\u001b[0mServerCmd\u001b[0m\u001b[1;33m.\u001b[0m\u001b[0mQUERY\u001b[0m\u001b[1;33m,\u001b[0m \u001b[0mquery\u001b[0m\u001b[1;33m)\u001b[0m\u001b[1;33m)\u001b[0m\u001b[1;33m\u001b[0m\u001b[1;33m\u001b[0m\u001b[0m\n\u001b[0m\u001b[0;32m    991\u001b[0m         \u001b[1;32mexcept\u001b[0m \u001b[0mProgrammingError\u001b[0m \u001b[1;32mas\u001b[0m \u001b[0merr\u001b[0m\u001b[1;33m:\u001b[0m\u001b[1;33m\u001b[0m\u001b[1;33m\u001b[0m\u001b[0m\n\u001b[0;32m    992\u001b[0m             \u001b[1;32mif\u001b[0m \u001b[0merr\u001b[0m\u001b[1;33m.\u001b[0m\u001b[0merrno\u001b[0m \u001b[1;33m==\u001b[0m \u001b[1;36m3948\u001b[0m \u001b[1;32mand\u001b[0m \u001b[1;34m\"Loading local data is disabled\"\u001b[0m \u001b[1;32min\u001b[0m \u001b[0merr\u001b[0m\u001b[1;33m.\u001b[0m\u001b[0mmsg\u001b[0m\u001b[1;33m:\u001b[0m\u001b[1;33m\u001b[0m\u001b[1;33m\u001b[0m\u001b[0m\n",
      "\u001b[1;32m~\\AppData\\Local\\Packages\\PythonSoftwareFoundation.Python.3.9_qbz5n2kfra8p0\\LocalCache\\local-packages\\Python39\\site-packages\\mysql\\connector\\connection.py\u001b[0m in \u001b[0;36m_handle_result\u001b[1;34m(self, packet)\u001b[0m\n\u001b[0;32m    782\u001b[0m             \u001b[1;32mreturn\u001b[0m \u001b[0mself\u001b[0m\u001b[1;33m.\u001b[0m\u001b[0m_handle_eof\u001b[0m\u001b[1;33m(\u001b[0m\u001b[0mpacket\u001b[0m\u001b[1;33m)\u001b[0m\u001b[1;33m\u001b[0m\u001b[1;33m\u001b[0m\u001b[0m\n\u001b[0;32m    783\u001b[0m         \u001b[1;32mif\u001b[0m \u001b[0mpacket\u001b[0m\u001b[1;33m[\u001b[0m\u001b[1;36m4\u001b[0m\u001b[1;33m]\u001b[0m \u001b[1;33m==\u001b[0m \u001b[1;36m255\u001b[0m\u001b[1;33m:\u001b[0m\u001b[1;33m\u001b[0m\u001b[1;33m\u001b[0m\u001b[0m\n\u001b[1;32m--> 784\u001b[1;33m             \u001b[1;32mraise\u001b[0m \u001b[0mget_exception\u001b[0m\u001b[1;33m(\u001b[0m\u001b[0mpacket\u001b[0m\u001b[1;33m)\u001b[0m\u001b[1;33m\u001b[0m\u001b[1;33m\u001b[0m\u001b[0m\n\u001b[0m\u001b[0;32m    785\u001b[0m \u001b[1;33m\u001b[0m\u001b[0m\n\u001b[0;32m    786\u001b[0m         \u001b[1;31m# We have a text result set\u001b[0m\u001b[1;33m\u001b[0m\u001b[1;33m\u001b[0m\u001b[0m\n",
      "\u001b[1;31mProgrammingError\u001b[0m: 1050 (42S01): Table 'stockdataa' already exists"
     ]
    }
   ],
   "source": [
    "mycursor.execute('CREATE TABLE StockDataA(date_ date, open INT, high INT, low INT, close INT, volume INT, name VARCHAR(100))')"
   ]
  },
  {
   "cell_type": "code",
   "execution_count": 98,
   "id": "1bc42272",
   "metadata": {
    "scrolled": false
   },
   "outputs": [],
   "source": [
    "for i in list1:\n",
    "    df = pd.read_csv(path+\"/\"+i)\n",
    "    for i,row in df.iterrows():\n",
    "        sql = \"INSERT INTO StockDataA(date_,open,high,low,close,volume,name) VALUES (%s,%s,%s,%s,%s,%s,%s)\"\n",
    "        val = (row['date'],row['open'], row['high'], row['low'], row['close'], row['volume'], row['Name'])\n",
    "        mycursor.execute(sql, val)"
   ]
  },
  {
   "cell_type": "code",
   "execution_count": 99,
   "id": "c62beb73",
   "metadata": {},
   "outputs": [],
   "source": [
    "mydb.commit()"
   ]
  },
  {
   "cell_type": "code",
   "execution_count": 100,
   "id": "333d1c8d",
   "metadata": {
    "scrolled": true
   },
   "outputs": [],
   "source": [
    "mycursor.execute(\"ALTER TABLE StockDataA ORDER BY date_, name ASC;\")"
   ]
  },
  {
   "cell_type": "code",
   "execution_count": 93,
   "id": "86abc013",
   "metadata": {},
   "outputs": [],
   "source": [
    "dataset = pd.read_csv(\"S&PindexStockData.csv\")"
   ]
  },
  {
   "cell_type": "code",
   "execution_count": 94,
   "id": "df7bfba2",
   "metadata": {},
   "outputs": [
    {
     "data": {
      "text/html": [
       "<div>\n",
       "<style scoped>\n",
       "    .dataframe tbody tr th:only-of-type {\n",
       "        vertical-align: middle;\n",
       "    }\n",
       "\n",
       "    .dataframe tbody tr th {\n",
       "        vertical-align: top;\n",
       "    }\n",
       "\n",
       "    .dataframe thead th {\n",
       "        text-align: right;\n",
       "    }\n",
       "</style>\n",
       "<table border=\"1\" class=\"dataframe\">\n",
       "  <thead>\n",
       "    <tr style=\"text-align: right;\">\n",
       "      <th></th>\n",
       "      <th>date_</th>\n",
       "      <th>open</th>\n",
       "      <th>high</th>\n",
       "      <th>low</th>\n",
       "      <th>close</th>\n",
       "      <th>volume</th>\n",
       "      <th>name</th>\n",
       "    </tr>\n",
       "  </thead>\n",
       "  <tbody>\n",
       "    <tr>\n",
       "      <th>0</th>\n",
       "      <td>2013-02-08</td>\n",
       "      <td>45.0</td>\n",
       "      <td>45.0</td>\n",
       "      <td>45.0</td>\n",
       "      <td>45</td>\n",
       "      <td>1824755</td>\n",
       "      <td>A</td>\n",
       "    </tr>\n",
       "    <tr>\n",
       "      <th>1</th>\n",
       "      <td>2013-02-08</td>\n",
       "      <td>15.0</td>\n",
       "      <td>15.0</td>\n",
       "      <td>15.0</td>\n",
       "      <td>15</td>\n",
       "      <td>8407500</td>\n",
       "      <td>AAL</td>\n",
       "    </tr>\n",
       "    <tr>\n",
       "      <th>2</th>\n",
       "      <td>2013-02-08</td>\n",
       "      <td>78.0</td>\n",
       "      <td>80.0</td>\n",
       "      <td>78.0</td>\n",
       "      <td>79</td>\n",
       "      <td>1298137</td>\n",
       "      <td>AAP</td>\n",
       "    </tr>\n",
       "    <tr>\n",
       "      <th>3</th>\n",
       "      <td>2013-02-08</td>\n",
       "      <td>68.0</td>\n",
       "      <td>68.0</td>\n",
       "      <td>67.0</td>\n",
       "      <td>68</td>\n",
       "      <td>158168416</td>\n",
       "      <td>AAPL</td>\n",
       "    </tr>\n",
       "    <tr>\n",
       "      <th>4</th>\n",
       "      <td>2013-02-08</td>\n",
       "      <td>36.0</td>\n",
       "      <td>36.0</td>\n",
       "      <td>36.0</td>\n",
       "      <td>36</td>\n",
       "      <td>13858795</td>\n",
       "      <td>ABBV</td>\n",
       "    </tr>\n",
       "  </tbody>\n",
       "</table>\n",
       "</div>"
      ],
      "text/plain": [
       "        date_  open  high   low  close     volume  name\n",
       "0  2013-02-08  45.0  45.0  45.0     45    1824755     A\n",
       "1  2013-02-08  15.0  15.0  15.0     15    8407500   AAL\n",
       "2  2013-02-08  78.0  80.0  78.0     79    1298137   AAP\n",
       "3  2013-02-08  68.0  68.0  67.0     68  158168416  AAPL\n",
       "4  2013-02-08  36.0  36.0  36.0     36   13858795  ABBV"
      ]
     },
     "execution_count": 94,
     "metadata": {},
     "output_type": "execute_result"
    }
   ],
   "source": [
    "dataset.head()"
   ]
  },
  {
   "cell_type": "code",
   "execution_count": null,
   "id": "02ad4908",
   "metadata": {},
   "outputs": [],
   "source": []
  },
  {
   "cell_type": "code",
   "execution_count": null,
   "id": "4cf8a94d",
   "metadata": {},
   "outputs": [],
   "source": []
  }
 ],
 "metadata": {
  "kernelspec": {
   "display_name": "Python 3 (ipykernel)",
   "language": "python",
   "name": "python3"
  },
  "language_info": {
   "codemirror_mode": {
    "name": "ipython",
    "version": 3
   },
   "file_extension": ".py",
   "mimetype": "text/x-python",
   "name": "python",
   "nbconvert_exporter": "python",
   "pygments_lexer": "ipython3",
   "version": "3.9.13"
  }
 },
 "nbformat": 4,
 "nbformat_minor": 5
}
